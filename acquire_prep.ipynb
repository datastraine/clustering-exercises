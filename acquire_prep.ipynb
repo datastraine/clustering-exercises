{
 "cells": [
  {
   "cell_type": "code",
   "execution_count": 2,
   "metadata": {},
   "outputs": [
    {
     "name": "stdout",
     "output_type": "stream",
     "text": [
      "Done!\n"
     ]
    }
   ],
   "source": [
    "import pandas as pd\n",
    "import numpy as np\n",
    "import acquire\n",
    "import wrangle_zillow\n",
    "print('Done!')"
   ]
  },
  {
   "cell_type": "code",
   "execution_count": null,
   "metadata": {
    "scrolled": false
   },
   "outputs": [],
   "source": [
    "df=acquire.load_zillow_data()\n",
    "df.head()"
   ]
  },
  {
   "cell_type": "code",
   "execution_count": null,
   "metadata": {},
   "outputs": [],
   "source": [
    "def columns_data(df):\n",
    "    columns_data = pd.concat([pd.Series(df.isnull().sum()), pd.Series(df.isnull().sum()/df.shape[0])], axis=1)\n",
    "    columns_data.reset_index(inplace = True)\n",
    "    columns_data.columns=(['columns', 'num_rows_missing', 'pct_rows_missing'])\n",
    "    print(f\"The max pct_rows_missing - {columns_data['pct_rows_missing'].max()}\")\n",
    "    print(f\"The average pct_rows_missing - {columns_data['pct_rows_missing'].mean()}\")\n",
    "    print(f\"The median pct_rows_missing - {columns_data['pct_rows_missing'].median()}\")\n",
    "    return columns_data\n",
    "\n",
    "column_data = columns_data(df)"
   ]
  },
  {
   "cell_type": "code",
   "execution_count": null,
   "metadata": {},
   "outputs": [],
   "source": [
    "column_data"
   ]
  },
  {
   "cell_type": "code",
   "execution_count": null,
   "metadata": {},
   "outputs": [],
   "source": [
    "column_data['keep'] = column_data['pct_rows_missing'] <= .3\n",
    "column_data['columns'][column_data['keep'] == True]"
   ]
  },
  {
   "cell_type": "code",
   "execution_count": null,
   "metadata": {},
   "outputs": [],
   "source": [
    "['propertylandusetypeid', 'parcelid', 'id', 'bathroomcnt', 'bedroomcnt',\n",
    "       'calculatedbathnbr', 'calculatedfinishedsquarefeet',\n",
    "       'finishedsquarefeet12', 'fips', 'fullbathcnt', 'latitude', 'longitude',\n",
    "       'lotsizesquarefeet', 'propertycountylandusecode',\n",
    "       'rawcensustractandblock', 'regionidcity', 'regionidcounty',\n",
    "       'regionidzip', 'roomcnt', 'yearbuilt', 'structuretaxvaluedollarcnt',\n",
    "       'taxvaluedollarcnt', 'assessmentyear', 'landtaxvaluedollarcnt',\n",
    "       'taxamount', 'censustractandblock', 'transactiondate', 'parcelid.1',\n",
    "       'logerror', 'transactiondate.1', 'propertylandusedesc']\n",
    "      dtype='object'"
   ]
  },
  {
   "cell_type": "code",
   "execution_count": null,
   "metadata": {
    "scrolled": true
   },
   "outputs": [],
   "source": [
    "counts = pd.DataFrame(df.isnull().sum(axis=1).value_counts().sort_values())\n",
    "counts.reset_index(inplace = True)\n",
    "counts.columns = ['num_cols_missing', 'num_rows']\n",
    "counts['pct_cols_missing'] = counts['num_cols_missing']/df.shape[1]\n",
    "counts = counts.sort_values('num_cols_missing').reset_index(drop= True)\n",
    "print(f\"The average num_rows missing - {counts['num_rows'].mean()}\")\n",
    "counts"
   ]
  },
  {
   "cell_type": "code",
   "execution_count": null,
   "metadata": {},
   "outputs": [],
   "source": [
    "def summarize(df):\n",
    "    print(f\"INFO \\n {df.info} \\n\")\n",
    "    print(f\"DESCRIPTION\\n {df.describe()} \\n\")\n",
    "    print(f\"SHAPE \\n {df.shape} \\n\")\n",
    "    \n",
    "summarize(df)"
   ]
  },
  {
   "cell_type": "code",
   "execution_count": null,
   "metadata": {},
   "outputs": [],
   "source": [
    "def handle_missing_values(df, prop_required_column, prop_required_row):\n",
    "    '''\n",
    "    This function takes in a DataFrame (df), a minium for prop_required_column [0:1], \n",
    "    and a minimum value [0:1] for prop_required_row.\n",
    "    \n",
    "    It will first drop columns who's missing data is less than prop_required_column value.\n",
    "    It will then drop the rows who's missing data is lower than the prop_required_row.\n",
    "    '''\n",
    "    columns_to_keep = []\n",
    "    columns = df.columns\n",
    "    for col in columns:   \n",
    "        if df[col].notnull().sum()/df.shape[0] >= prop_required_column:\n",
    "            columns_to_keep.append(col)\n",
    "    df = df[columns_to_keep]\n",
    "    df['row_to_keep'] = df.notnull().sum(axis=1)/df.shape[1] >= prop_required_row\n",
    "    df = df.loc[df['row_to_keep'] == True]\n",
    "    df.drop(columns= ['row_to_keep'], inplace = True)\n",
    "    return df"
   ]
  },
  {
   "cell_type": "code",
   "execution_count": null,
   "metadata": {},
   "outputs": [],
   "source": [
    "df1 = handle_missing_values(df, .6, .75)\n",
    "df1.shape"
   ]
  },
  {
   "cell_type": "code",
   "execution_count": null,
   "metadata": {},
   "outputs": [],
   "source": [
    "def handle_missing_values2(df, prop_required_column = .7, prop_required_row = .6):\n",
    "    threshold = int(round(prop_required_column*len(df.index),0))\n",
    "    df.dropna(axis=1, thresh=threshold, inplace=True)\n",
    "    threshold = int(round(prop_required_row*len(df.columns),0))\n",
    "    df.dropna(axis=0, thresh=threshold, inplace=True)\n",
    "    return df\n",
    "\n",
    "df2 = handle_missing_values2(df, .6, 0)\n",
    "df.shape"
   ]
  },
  {
   "cell_type": "code",
   "execution_count": null,
   "metadata": {},
   "outputs": [],
   "source": [
    "['propertylandusetypeid', 'parcelid', 'id', 'bathroomcnt', 'bedroomcnt',\n",
    "       'calculatedbathnbr', 'calculatedfinishedsquarefeet',\n",
    "       'finishedsquarefeet12', 'fips', 'fullbathcnt', 'latitude', 'longitude',\n",
    "       'lotsizesquarefeet', 'propertycountylandusecode',\n",
    "       'rawcensustractandblock', 'regionidcity', 'regionidcounty',\n",
    "       'regionidzip', 'roomcnt', 'yearbuilt', 'structuretaxvaluedollarcnt',\n",
    "       'taxvaluedollarcnt', 'assessmentyear', 'landtaxvaluedollarcnt',\n",
    "       'taxamount', 'censustractandblock', 'transactiondate', 'parcelid.1',\n",
    "       'logerror', 'transactiondate.1', 'propertylandusedesc']"
   ]
  },
  {
   "cell_type": "code",
   "execution_count": null,
   "metadata": {},
   "outputs": [],
   "source": [
    "df = df[df.propertylandusetypeid.isin([261, 262, 273])]\n",
    "df.drop(columns = ['buildingclasstypeid', 'typeconstructiontypeid', 'storytypeid',\n",
    "       'propertylandusetypeid', 'heatingorsystemtypeid',\n",
    "       'architecturalstyletypeid', 'airconditioningtypeid', 'id', 'unitcnt'], inplace = True)\n",
    "df.drop(columns = [c for c in df.columns if c.endswith('.1')], inplace = True)\n",
    "df['has_basement'] = df['basementsqft'] > 0\n",
    "df.replace({True:1, False:0}, inplace = True)\n",
    "df['fireplaceflag']\n",
    "df.columns"
   ]
  },
  {
   "cell_type": "code",
   "execution_count": null,
   "metadata": {},
   "outputs": [],
   "source": [
    "df[['airconditioningtypeid']].isnull().sum()"
   ]
  },
  {
   "cell_type": "code",
   "execution_count": null,
   "metadata": {},
   "outputs": [],
   "source": [
    "df['fireplacecnt'].isnull().sum()"
   ]
  },
  {
   "cell_type": "code",
   "execution_count": null,
   "metadata": {},
   "outputs": [],
   "source": [
    "df = wrangle_zillow.prep_zillow()\n",
    "df.shape"
   ]
  },
  {
   "cell_type": "code",
   "execution_count": null,
   "metadata": {
    "scrolled": true
   },
   "outputs": [],
   "source": [
    "df.isnull().mean().sort_values(ascending=False)"
   ]
  },
  {
   "cell_type": "code",
   "execution_count": null,
   "metadata": {},
   "outputs": [],
   "source": [
    "df['regionidcity'].mode()"
   ]
  },
  {
   "cell_type": "code",
   "execution_count": null,
   "metadata": {},
   "outputs": [],
   "source": [
    "from sklearn.model_selection import train_test_split\n",
    "\n",
    "train_validate, test = train_test_split(df, test_size=.2, random_state=333)\n",
    "train, validate = train_test_split(train_validate, test_size=.25, random_state=333)"
   ]
  },
  {
   "cell_type": "code",
   "execution_count": null,
   "metadata": {},
   "outputs": [],
   "source": [
    "train.isnull().sum().sort_values(ascending=False)"
   ]
  },
  {
   "cell_type": "code",
   "execution_count": null,
   "metadata": {},
   "outputs": [],
   "source": [
    "train['propertyzoningdesc'].value_counts()"
   ]
  },
  {
   "cell_type": "code",
   "execution_count": 3,
   "metadata": {
    "scrolled": false
   },
   "outputs": [
    {
     "name": "stderr",
     "output_type": "stream",
     "text": [
      "C:\\Users\\anthony\\anaconda3\\lib\\site-packages\\IPython\\core\\interactiveshell.py:3417: DtypeWarning: Columns (69) have mixed types.Specify dtype option on import or set low_memory=False.\n",
      "  exec(code_obj, self.user_global_ns, self.user_ns)\n",
      "C:\\Users\\anthony\\Documents\\Data_Science\\CodeUp\\clustering-exercises\\wrangle_zillow.py:20: SettingWithCopyWarning: \n",
      "A value is trying to be set on a copy of a slice from a DataFrame.\n",
      "Try using .loc[row_indexer,col_indexer] = value instead\n",
      "\n",
      "See the caveats in the documentation: https://pandas.pydata.org/pandas-docs/stable/user_guide/indexing.html#returning-a-view-versus-a-copy\n",
      "  df['row_to_keep'] = df.notnull().sum(axis=1)/df.shape[1] >= prop_required_row\n"
     ]
    },
    {
     "data": {
      "text/plain": [
       "lotsizesquarefeet               188\n",
       "buildingqualitytypeid            94\n",
       "structuretaxvaluedollarcnt       44\n",
       "propertyzoningdesc               44\n",
       "regionidzip                       7\n",
       "yearbuilt                         5\n",
       "taxamount                         3\n",
       "calculatedfinishedsquarefeet      1\n",
       "rawcensustractandblock            0\n",
       "bedroomcnt                        0\n",
       "fips                              0\n",
       "latitude                          0\n",
       "longitude                         0\n",
       "has_basement                      0\n",
       "regionidcounty                    0\n",
       "propertylandusedesc               0\n",
       "roomcnt                           0\n",
       "taxvaluedollarcnt                 0\n",
       "assessmentyear                    0\n",
       "landtaxvaluedollarcnt             0\n",
       "transactiondate                   0\n",
       "logerror                          0\n",
       "heatingorsystemdesc               0\n",
       "bathroomcnt                       0\n",
       "dtype: int64"
      ]
     },
     "execution_count": 3,
     "metadata": {},
     "output_type": "execute_result"
    }
   ],
   "source": [
    "train, validate, test = wrangle_zillow.prep_zillow()\n",
    "train.isnull().sum().sort_values(ascending=False)"
   ]
  },
  {
   "cell_type": "code",
   "execution_count": 4,
   "metadata": {},
   "outputs": [],
   "source": [
    "# Categorical/Discrete columns to use mode to replace nulls\n",
    "\n",
    "med_cols = [\n",
    "    \"taxamount\",\n",
    "    \"calculatedfinishedsquarefeet\",\n",
    "    \"structuretaxvaluedollarcnt\",\n",
    "    \"lotsizesquarefeet\"\n",
    "    ]\n",
    "\n",
    "for col in med_cols:\n",
    "    median = train[col].median()\n",
    "    train[col].fillna(median, inplace=True)\n",
    "    validate[col].fillna(median, inplace=True)\n",
    "    test[col].fillna(median, inplace=True)\n",
    "    \n",
    "mod_cols = [\n",
    "    \"yearbuilt\",\n",
    "    \"regionidzip\",\n",
    "    \"propertyzoningdesc\",\n",
    "    \"buildingqualitytypeid\",\n",
    "]\n",
    "\n",
    "for col in mod_cols:\n",
    "    mode = str(train[col].mode())# I had some friction when this returned a float (and there were no decimals anyways)\n",
    "    train[col].fillna(value=mode, inplace=True)\n",
    "    validate[col].fillna(value=mode, inplace=True)\n",
    "    test[col].fillna(value=mode, inplace=True)"
   ]
  },
  {
   "cell_type": "code",
   "execution_count": 6,
   "metadata": {},
   "outputs": [],
   "source": [
    "mod_cols = [\n",
    "    \"yearbuilt\",\n",
    "    \"regionidzip\",\n",
    "    \"propertyzoningdesc\",\n",
    "    \"buildingqualitytypeid\",\n",
    "]\n",
    "\n",
    "for col in mod_cols:\n",
    "    mode = str(train[col].mode())# I had some friction when this returned a float (and there were no decimals anyways)\n",
    "    train[col].fillna(value=mode, inplace=True)\n",
    "    validate[col].fillna(value=mode, inplace=True)\n",
    "    test[col].fillna(value=mode, inplace=True)"
   ]
  },
  {
   "cell_type": "code",
   "execution_count": 7,
   "metadata": {},
   "outputs": [
    {
     "data": {
      "text/plain": [
       "has_basement                    0\n",
       "propertylandusedesc             0\n",
       "bedroomcnt                      0\n",
       "buildingqualitytypeid           0\n",
       "calculatedfinishedsquarefeet    0\n",
       "fips                            0\n",
       "latitude                        0\n",
       "longitude                       0\n",
       "lotsizesquarefeet               0\n",
       "propertyzoningdesc              0\n",
       "rawcensustractandblock          0\n",
       "regionidcounty                  0\n",
       "regionidzip                     0\n",
       "roomcnt                         0\n",
       "yearbuilt                       0\n",
       "structuretaxvaluedollarcnt      0\n",
       "taxvaluedollarcnt               0\n",
       "assessmentyear                  0\n",
       "landtaxvaluedollarcnt           0\n",
       "taxamount                       0\n",
       "transactiondate                 0\n",
       "logerror                        0\n",
       "heatingorsystemdesc             0\n",
       "bathroomcnt                     0\n",
       "dtype: int64"
      ]
     },
     "execution_count": 7,
     "metadata": {},
     "output_type": "execute_result"
    }
   ],
   "source": [
    "train.isnull().sum().sort_values(ascending=False)"
   ]
  },
  {
   "cell_type": "code",
   "execution_count": null,
   "metadata": {},
   "outputs": [],
   "source": [
    "train.dtypes"
   ]
  },
  {
   "cell_type": "code",
   "execution_count": null,
   "metadata": {},
   "outputs": [],
   "source": []
  }
 ],
 "metadata": {
  "kernelspec": {
   "display_name": "Python 3",
   "language": "python",
   "name": "python3"
  },
  "language_info": {
   "codemirror_mode": {
    "name": "ipython",
    "version": 3
   },
   "file_extension": ".py",
   "mimetype": "text/x-python",
   "name": "python",
   "nbconvert_exporter": "python",
   "pygments_lexer": "ipython3",
   "version": "3.8.3"
  }
 },
 "nbformat": 4,
 "nbformat_minor": 4
}
