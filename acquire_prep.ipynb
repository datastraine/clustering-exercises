{
 "cells": [
  {
   "cell_type": "code",
   "execution_count": 37,
   "metadata": {},
   "outputs": [
    {
     "name": "stdout",
     "output_type": "stream",
     "text": [
      "Done!\n"
     ]
    }
   ],
   "source": [
    "import pandas as pd\n",
    "import numpy as np\n",
    "import acquire\n",
    "import wrangle_zillow\n",
    "from sklearn.model_selection import train_test_split\n",
    "import warnings\n",
    "warnings.filterwarnings(\"ignore\")\n",
    "\n",
    "print('Done!')"
   ]
  },
  {
   "cell_type": "code",
   "execution_count": 28,
   "metadata": {
    "scrolled": false
   },
   "outputs": [
    {
     "name": "stderr",
     "output_type": "stream",
     "text": [
      "C:\\Users\\anthony\\anaconda3\\lib\\site-packages\\IPython\\core\\interactiveshell.py:3337: DtypeWarning: Columns (69) have mixed types.Specify dtype option on import or set low_memory=False.\n",
      "  if (await self.run_code(code, result,  async_=asy)):\n"
     ]
    },
    {
     "data": {
      "text/html": [
       "<div>\n",
       "<style scoped>\n",
       "    .dataframe tbody tr th:only-of-type {\n",
       "        vertical-align: middle;\n",
       "    }\n",
       "\n",
       "    .dataframe tbody tr th {\n",
       "        vertical-align: top;\n",
       "    }\n",
       "\n",
       "    .dataframe thead th {\n",
       "        text-align: right;\n",
       "    }\n",
       "</style>\n",
       "<table border=\"1\" class=\"dataframe\">\n",
       "  <thead>\n",
       "    <tr style=\"text-align: right;\">\n",
       "      <th></th>\n",
       "      <th>buildingclasstypeid</th>\n",
       "      <th>typeconstructiontypeid</th>\n",
       "      <th>storytypeid</th>\n",
       "      <th>propertylandusetypeid</th>\n",
       "      <th>heatingorsystemtypeid</th>\n",
       "      <th>architecturalstyletypeid</th>\n",
       "      <th>airconditioningtypeid</th>\n",
       "      <th>parcelid</th>\n",
       "      <th>id</th>\n",
       "      <th>basementsqft</th>\n",
       "      <th>...</th>\n",
       "      <th>parcelid.1</th>\n",
       "      <th>logerror</th>\n",
       "      <th>transactiondate.1</th>\n",
       "      <th>airconditioningdesc</th>\n",
       "      <th>architecturalstyledesc</th>\n",
       "      <th>heatingorsystemdesc</th>\n",
       "      <th>propertylandusedesc</th>\n",
       "      <th>storydesc</th>\n",
       "      <th>typeconstructiondesc</th>\n",
       "      <th>buildingclassdesc</th>\n",
       "    </tr>\n",
       "  </thead>\n",
       "  <tbody>\n",
       "    <tr>\n",
       "      <th>0</th>\n",
       "      <td>NaN</td>\n",
       "      <td>NaN</td>\n",
       "      <td>NaN</td>\n",
       "      <td>261.0</td>\n",
       "      <td>NaN</td>\n",
       "      <td>NaN</td>\n",
       "      <td>NaN</td>\n",
       "      <td>14297519</td>\n",
       "      <td>1727539</td>\n",
       "      <td>NaN</td>\n",
       "      <td>...</td>\n",
       "      <td>14297519</td>\n",
       "      <td>0.025595</td>\n",
       "      <td>2017-01-01</td>\n",
       "      <td>NaN</td>\n",
       "      <td>NaN</td>\n",
       "      <td>NaN</td>\n",
       "      <td>Single Family Residential</td>\n",
       "      <td>NaN</td>\n",
       "      <td>NaN</td>\n",
       "      <td>NaN</td>\n",
       "    </tr>\n",
       "    <tr>\n",
       "      <th>1</th>\n",
       "      <td>NaN</td>\n",
       "      <td>NaN</td>\n",
       "      <td>NaN</td>\n",
       "      <td>261.0</td>\n",
       "      <td>NaN</td>\n",
       "      <td>NaN</td>\n",
       "      <td>NaN</td>\n",
       "      <td>17052889</td>\n",
       "      <td>1387261</td>\n",
       "      <td>NaN</td>\n",
       "      <td>...</td>\n",
       "      <td>17052889</td>\n",
       "      <td>0.055619</td>\n",
       "      <td>2017-01-01</td>\n",
       "      <td>NaN</td>\n",
       "      <td>NaN</td>\n",
       "      <td>NaN</td>\n",
       "      <td>Single Family Residential</td>\n",
       "      <td>NaN</td>\n",
       "      <td>NaN</td>\n",
       "      <td>NaN</td>\n",
       "    </tr>\n",
       "    <tr>\n",
       "      <th>2</th>\n",
       "      <td>NaN</td>\n",
       "      <td>NaN</td>\n",
       "      <td>NaN</td>\n",
       "      <td>261.0</td>\n",
       "      <td>NaN</td>\n",
       "      <td>NaN</td>\n",
       "      <td>NaN</td>\n",
       "      <td>14186244</td>\n",
       "      <td>11677</td>\n",
       "      <td>NaN</td>\n",
       "      <td>...</td>\n",
       "      <td>14186244</td>\n",
       "      <td>0.005383</td>\n",
       "      <td>2017-01-01</td>\n",
       "      <td>NaN</td>\n",
       "      <td>NaN</td>\n",
       "      <td>NaN</td>\n",
       "      <td>Single Family Residential</td>\n",
       "      <td>NaN</td>\n",
       "      <td>NaN</td>\n",
       "      <td>NaN</td>\n",
       "    </tr>\n",
       "    <tr>\n",
       "      <th>3</th>\n",
       "      <td>NaN</td>\n",
       "      <td>NaN</td>\n",
       "      <td>NaN</td>\n",
       "      <td>261.0</td>\n",
       "      <td>2.0</td>\n",
       "      <td>NaN</td>\n",
       "      <td>NaN</td>\n",
       "      <td>12177905</td>\n",
       "      <td>2288172</td>\n",
       "      <td>NaN</td>\n",
       "      <td>...</td>\n",
       "      <td>12177905</td>\n",
       "      <td>-0.103410</td>\n",
       "      <td>2017-01-01</td>\n",
       "      <td>NaN</td>\n",
       "      <td>NaN</td>\n",
       "      <td>Central</td>\n",
       "      <td>Single Family Residential</td>\n",
       "      <td>NaN</td>\n",
       "      <td>NaN</td>\n",
       "      <td>NaN</td>\n",
       "    </tr>\n",
       "    <tr>\n",
       "      <th>4</th>\n",
       "      <td>NaN</td>\n",
       "      <td>NaN</td>\n",
       "      <td>NaN</td>\n",
       "      <td>266.0</td>\n",
       "      <td>2.0</td>\n",
       "      <td>NaN</td>\n",
       "      <td>1.0</td>\n",
       "      <td>10887214</td>\n",
       "      <td>1970746</td>\n",
       "      <td>NaN</td>\n",
       "      <td>...</td>\n",
       "      <td>10887214</td>\n",
       "      <td>0.006940</td>\n",
       "      <td>2017-01-01</td>\n",
       "      <td>Central</td>\n",
       "      <td>NaN</td>\n",
       "      <td>Central</td>\n",
       "      <td>Condominium</td>\n",
       "      <td>NaN</td>\n",
       "      <td>NaN</td>\n",
       "      <td>NaN</td>\n",
       "    </tr>\n",
       "  </tbody>\n",
       "</table>\n",
       "<p>5 rows × 70 columns</p>\n",
       "</div>"
      ],
      "text/plain": [
       "   buildingclasstypeid  typeconstructiontypeid  storytypeid  \\\n",
       "0                  NaN                     NaN          NaN   \n",
       "1                  NaN                     NaN          NaN   \n",
       "2                  NaN                     NaN          NaN   \n",
       "3                  NaN                     NaN          NaN   \n",
       "4                  NaN                     NaN          NaN   \n",
       "\n",
       "   propertylandusetypeid  heatingorsystemtypeid  architecturalstyletypeid  \\\n",
       "0                  261.0                    NaN                       NaN   \n",
       "1                  261.0                    NaN                       NaN   \n",
       "2                  261.0                    NaN                       NaN   \n",
       "3                  261.0                    2.0                       NaN   \n",
       "4                  266.0                    2.0                       NaN   \n",
       "\n",
       "   airconditioningtypeid  parcelid       id  basementsqft  ...  parcelid.1  \\\n",
       "0                    NaN  14297519  1727539           NaN  ...    14297519   \n",
       "1                    NaN  17052889  1387261           NaN  ...    17052889   \n",
       "2                    NaN  14186244    11677           NaN  ...    14186244   \n",
       "3                    NaN  12177905  2288172           NaN  ...    12177905   \n",
       "4                    1.0  10887214  1970746           NaN  ...    10887214   \n",
       "\n",
       "   logerror  transactiondate.1  airconditioningdesc  architecturalstyledesc  \\\n",
       "0  0.025595         2017-01-01                  NaN                     NaN   \n",
       "1  0.055619         2017-01-01                  NaN                     NaN   \n",
       "2  0.005383         2017-01-01                  NaN                     NaN   \n",
       "3 -0.103410         2017-01-01                  NaN                     NaN   \n",
       "4  0.006940         2017-01-01              Central                     NaN   \n",
       "\n",
       "   heatingorsystemdesc        propertylandusedesc  storydesc  \\\n",
       "0                  NaN  Single Family Residential        NaN   \n",
       "1                  NaN  Single Family Residential        NaN   \n",
       "2                  NaN  Single Family Residential        NaN   \n",
       "3              Central  Single Family Residential        NaN   \n",
       "4              Central                Condominium        NaN   \n",
       "\n",
       "   typeconstructiondesc  buildingclassdesc  \n",
       "0                   NaN                NaN  \n",
       "1                   NaN                NaN  \n",
       "2                   NaN                NaN  \n",
       "3                   NaN                NaN  \n",
       "4                   NaN                NaN  \n",
       "\n",
       "[5 rows x 70 columns]"
      ]
     },
     "execution_count": 28,
     "metadata": {},
     "output_type": "execute_result"
    }
   ],
   "source": [
    "df=acquire.load_zillow_data()\n",
    "df.head()"
   ]
  },
  {
   "cell_type": "code",
   "execution_count": null,
   "metadata": {},
   "outputs": [],
   "source": [
    "def columns_data(df):\n",
    "    columns_data = pd.concat([pd.Series(df.isnull().sum()), pd.Series(df.isnull().sum()/df.shape[0])], axis=1)\n",
    "    columns_data.reset_index(inplace = True)\n",
    "    columns_data.columns=(['columns', 'num_rows_missing', 'pct_rows_missing'])\n",
    "    print(f\"The max pct_rows_missing - {columns_data['pct_rows_missing'].max()}\")\n",
    "    print(f\"The average pct_rows_missing - {columns_data['pct_rows_missing'].mean()}\")\n",
    "    print(f\"The median pct_rows_missing - {columns_data['pct_rows_missing'].median()}\")\n",
    "    return columns_data\n",
    "\n",
    "column_data = columns_data(df)"
   ]
  },
  {
   "cell_type": "code",
   "execution_count": null,
   "metadata": {},
   "outputs": [],
   "source": [
    "column_data"
   ]
  },
  {
   "cell_type": "code",
   "execution_count": null,
   "metadata": {},
   "outputs": [],
   "source": [
    "column_data['keep'] = column_data['pct_rows_missing'] <= .3\n",
    "column_data['columns'][column_data['keep'] == True]"
   ]
  },
  {
   "cell_type": "code",
   "execution_count": null,
   "metadata": {},
   "outputs": [],
   "source": [
    "['propertylandusetypeid', 'parcelid', 'id', 'bathroomcnt', 'bedroomcnt',\n",
    "       'calculatedbathnbr', 'calculatedfinishedsquarefeet',\n",
    "       'finishedsquarefeet12', 'fips', 'fullbathcnt', 'latitude', 'longitude',\n",
    "       'lotsizesquarefeet', 'propertycountylandusecode',\n",
    "       'rawcensustractandblock', 'regionidcity', 'regionidcounty',\n",
    "       'regionidzip', 'roomcnt', 'yearbuilt', 'structuretaxvaluedollarcnt',\n",
    "       'taxvaluedollarcnt', 'assessmentyear', 'landtaxvaluedollarcnt',\n",
    "       'taxamount', 'censustractandblock', 'transactiondate', 'parcelid.1',\n",
    "       'logerror', 'transactiondate.1', 'propertylandusedesc']\n",
    "      dtype='object'"
   ]
  },
  {
   "cell_type": "code",
   "execution_count": null,
   "metadata": {
    "scrolled": true
   },
   "outputs": [],
   "source": [
    "counts = pd.DataFrame(df.isnull().sum(axis=1).value_counts().sort_values())\n",
    "counts.reset_index(inplace = True)\n",
    "counts.columns = ['num_cols_missing', 'num_rows']\n",
    "counts['pct_cols_missing'] = counts['num_cols_missing']/df.shape[1]\n",
    "counts = counts.sort_values('num_cols_missing').reset_index(drop= True)\n",
    "print(f\"The average num_rows missing - {counts['num_rows'].mean()}\")\n",
    "counts"
   ]
  },
  {
   "cell_type": "code",
   "execution_count": null,
   "metadata": {},
   "outputs": [],
   "source": [
    "def summarize(df):\n",
    "    print(f\"INFO \\n {df.info} \\n\")\n",
    "    print(f\"DESCRIPTION\\n {df.describe()} \\n\")\n",
    "    print(f\"SHAPE \\n {df.shape} \\n\")\n",
    "    \n",
    "summarize(df)"
   ]
  },
  {
   "cell_type": "code",
   "execution_count": 34,
   "metadata": {},
   "outputs": [],
   "source": [
    "def handle_missing_values(df, prop_required_column, prop_required_row):\n",
    "    '''\n",
    "    This function takes in a DataFrame (df), a minium for prop_required_column [0:1], \n",
    "    and a minimum value [0:1] for prop_required_row.\n",
    "    \n",
    "    It will first drop columns who's missing data is less than prop_required_column value.\n",
    "    It will then drop the rows who's missing data is lower than the prop_required_row.\n",
    "    '''\n",
    "    columns_to_keep = []\n",
    "    columns = df.columns\n",
    "    for col in columns:   \n",
    "        if df[col].notnull().sum()/df.shape[0] >= prop_required_column:\n",
    "            columns_to_keep.append(col)\n",
    "    df = df[columns_to_keep]\n",
    "    df['row_to_keep'] = df.notnull().sum(axis=1)/df.shape[1] >= prop_required_row\n",
    "    df = df.loc[df['row_to_keep'] == True]\n",
    "    df.drop(columns= ['row_to_keep'], inplace = True)\n",
    "    return df"
   ]
  },
  {
   "cell_type": "code",
   "execution_count": null,
   "metadata": {},
   "outputs": [],
   "source": [
    "df1 = handle_missing_values(df, .6, .75)\n",
    "df1.shape"
   ]
  },
  {
   "cell_type": "code",
   "execution_count": 33,
   "metadata": {},
   "outputs": [
    {
     "name": "stdout",
     "output_type": "stream",
     "text": [
      "(43779, 36)\n"
     ]
    },
    {
     "data": {
      "text/plain": [
       "Index(['propertylandusetypeid', 'heatingorsystemtypeid', 'parcelid', 'id',\n",
       "       'bathroomcnt', 'bedroomcnt', 'buildingqualitytypeid',\n",
       "       'calculatedbathnbr', 'calculatedfinishedsquarefeet',\n",
       "       'finishedsquarefeet12', 'fips', 'fullbathcnt', 'latitude', 'longitude',\n",
       "       'lotsizesquarefeet', 'propertycountylandusecode', 'propertyzoningdesc',\n",
       "       'rawcensustractandblock', 'regionidcity', 'regionidcounty',\n",
       "       'regionidzip', 'roomcnt', 'unitcnt', 'yearbuilt',\n",
       "       'structuretaxvaluedollarcnt', 'taxvaluedollarcnt', 'assessmentyear',\n",
       "       'landtaxvaluedollarcnt', 'taxamount', 'censustractandblock',\n",
       "       'transactiondate', 'parcelid.1', 'logerror', 'transactiondate.1',\n",
       "       'heatingorsystemdesc', 'propertylandusedesc'],\n",
       "      dtype='object')"
      ]
     },
     "execution_count": 33,
     "metadata": {},
     "output_type": "execute_result"
    }
   ],
   "source": [
    "def handle_missing_values2(df, prop_required_column = .7, prop_required_row = .6):\n",
    "    threshold = int(round(prop_required_column*len(df.index),0))\n",
    "    df.dropna(axis=1, thresh=threshold, inplace=True)\n",
    "    threshold = int(round(prop_required_row*len(df.columns),0))\n",
    "    df.dropna(axis=0, thresh=threshold, inplace=True)\n",
    "    return df\n",
    "\n",
    "df2 = handle_missing_values2(df, .5, .1)\n",
    "print(df2.shape)\n",
    "df2.columns"
   ]
  },
  {
   "cell_type": "code",
   "execution_count": null,
   "metadata": {},
   "outputs": [],
   "source": [
    "['propertylandusetypeid', 'parcelid', 'id', 'bathroomcnt', 'bedroomcnt',\n",
    "       'calculatedbathnbr', 'calculatedfinishedsquarefeet',\n",
    "       'finishedsquarefeet12', 'fips', 'fullbathcnt', 'latitude', 'longitude',\n",
    "       'lotsizesquarefeet', 'propertycountylandusecode',\n",
    "       'rawcensustractandblock', 'regionidcity', 'regionidcounty',\n",
    "       'regionidzip', 'roomcnt', 'yearbuilt', 'structuretaxvaluedollarcnt',\n",
    "       'taxvaluedollarcnt', 'assessmentyear', 'landtaxvaluedollarcnt',\n",
    "       'taxamount', 'censustractandblock', 'transactiondate', 'parcelid.1',\n",
    "       'logerror', 'transactiondate.1', 'propertylandusedesc']"
   ]
  },
  {
   "cell_type": "code",
   "execution_count": null,
   "metadata": {},
   "outputs": [],
   "source": [
    "df = df[df.propertylandusetypeid.isin([261, 262, 273])]\n",
    "df.drop(columns = ['buildingclasstypeid', 'typeconstructiontypeid', 'storytypeid',\n",
    "       'propertylandusetypeid', 'heatingorsystemtypeid',\n",
    "       'architecturalstyletypeid', 'airconditioningtypeid', 'id', 'unitcnt'], inplace = True)\n",
    "df.drop(columns = [c for c in df.columns if c.endswith('.1')], inplace = True)\n",
    "df['has_basement'] = df['basementsqft'] > 0\n",
    "df.replace({True:1, False:0}, inplace = True)\n",
    "df['fireplaceflag']\n",
    "df.columns"
   ]
  },
  {
   "cell_type": "code",
   "execution_count": null,
   "metadata": {},
   "outputs": [],
   "source": [
    "df[['airconditioningtypeid']].isnull().sum()"
   ]
  },
  {
   "cell_type": "code",
   "execution_count": null,
   "metadata": {},
   "outputs": [],
   "source": [
    "df['fireplacecnt'].isnull().sum()"
   ]
  },
  {
   "cell_type": "code",
   "execution_count": null,
   "metadata": {},
   "outputs": [],
   "source": [
    "df = wrangle_zillow.prep_zillow()\n",
    "df.shape"
   ]
  },
  {
   "cell_type": "code",
   "execution_count": null,
   "metadata": {
    "scrolled": true
   },
   "outputs": [],
   "source": [
    "df.isnull().mean().sort_values(ascending=False)"
   ]
  },
  {
   "cell_type": "code",
   "execution_count": null,
   "metadata": {},
   "outputs": [],
   "source": [
    "df['regionidcity'].mode()"
   ]
  },
  {
   "cell_type": "code",
   "execution_count": null,
   "metadata": {},
   "outputs": [],
   "source": [
    "from sklearn.model_selection import train_test_split\n",
    "\n",
    "train_validate, test = train_test_split(df, test_size=.2, random_state=333)\n",
    "train, validate = train_test_split(train_validate, test_size=.25, random_state=333)"
   ]
  },
  {
   "cell_type": "code",
   "execution_count": null,
   "metadata": {},
   "outputs": [],
   "source": [
    "train.isnull().sum().sort_values(ascending=False)"
   ]
  },
  {
   "cell_type": "code",
   "execution_count": null,
   "metadata": {},
   "outputs": [],
   "source": [
    "train['propertyzoningdesc'].value_counts()"
   ]
  },
  {
   "cell_type": "code",
   "execution_count": 2,
   "metadata": {
    "scrolled": false
   },
   "outputs": [
    {
     "name": "stderr",
     "output_type": "stream",
     "text": [
      "C:\\Users\\anthony\\anaconda3\\lib\\site-packages\\IPython\\core\\interactiveshell.py:3417: DtypeWarning: Columns (69) have mixed types.Specify dtype option on import or set low_memory=False.\n",
      "  exec(code_obj, self.user_global_ns, self.user_ns)\n",
      "C:\\Users\\anthony\\Documents\\Data_Science\\CodeUp\\clustering-exercises\\wrangle_zillow.py:20: SettingWithCopyWarning: \n",
      "A value is trying to be set on a copy of a slice from a DataFrame.\n",
      "Try using .loc[row_indexer,col_indexer] = value instead\n",
      "\n",
      "See the caveats in the documentation: https://pandas.pydata.org/pandas-docs/stable/user_guide/indexing.html#returning-a-view-versus-a-copy\n",
      "  df['row_to_keep'] = df.notnull().sum(axis=1)/df.shape[1] >= prop_required_row\n",
      "C:\\Users\\anthony\\anaconda3\\lib\\site-packages\\pandas\\core\\series.py:4517: SettingWithCopyWarning: \n",
      "A value is trying to be set on a copy of a slice from a DataFrame\n",
      "\n",
      "See the caveats in the documentation: https://pandas.pydata.org/pandas-docs/stable/user_guide/indexing.html#returning-a-view-versus-a-copy\n",
      "  return super().fillna(\n"
     ]
    },
    {
     "data": {
      "text/plain": [
       "has_basement                    0\n",
       "propertylandusedesc             0\n",
       "bedroomcnt                      0\n",
       "buildingqualitytypeid           0\n",
       "calculatedfinishedsquarefeet    0\n",
       "fips                            0\n",
       "latitude                        0\n",
       "longitude                       0\n",
       "lotsizesquarefeet               0\n",
       "propertyzoningdesc              0\n",
       "rawcensustractandblock          0\n",
       "regionidcounty                  0\n",
       "regionidzip                     0\n",
       "roomcnt                         0\n",
       "yearbuilt                       0\n",
       "structuretaxvaluedollarcnt      0\n",
       "taxvaluedollarcnt               0\n",
       "assessmentyear                  0\n",
       "landtaxvaluedollarcnt           0\n",
       "taxamount                       0\n",
       "transactiondate                 0\n",
       "logerror                        0\n",
       "heatingorsystemdesc             0\n",
       "bathroomcnt                     0\n",
       "dtype: int64"
      ]
     },
     "execution_count": 2,
     "metadata": {},
     "output_type": "execute_result"
    }
   ],
   "source": [
    "train, validate, test = wrangle_zillow.prep_zillow()\n",
    "train.isnull().sum().sort_values(ascending=False)"
   ]
  },
  {
   "cell_type": "code",
   "execution_count": null,
   "metadata": {},
   "outputs": [],
   "source": [
    "# Categorical/Discrete columns to use mode to replace nulls\n",
    "\n",
    "med_cols = [\n",
    "    \"taxamount\",\n",
    "    \"calculatedfinishedsquarefeet\",\n",
    "    \"structuretaxvaluedollarcnt\",\n",
    "    \"lotsizesquarefeet\"\n",
    "    ]\n",
    "\n",
    "for col in med_cols:\n",
    "    median = train[col].median()\n",
    "    train[col].fillna(median, inplace=True)\n",
    "    validate[col].fillna(median, inplace=True)\n",
    "    test[col].fillna(median, inplace=True)\n",
    "    \n",
    "mod_cols = [\n",
    "    \"yearbuilt\",\n",
    "    \"regionidzip\",\n",
    "    \"propertyzoningdesc\",\n",
    "    \"buildingqualitytypeid\",\n",
    "]\n",
    "\n",
    "for col in mod_cols:\n",
    "    mode = str(train[col].mode())# I had some friction when this returned a float (and there were no decimals anyways)\n",
    "    train[col].fillna(value=mode, inplace=True)\n",
    "    validate[col].fillna(value=mode, inplace=True)\n",
    "    test[col].fillna(value=mode, inplace=True)"
   ]
  },
  {
   "cell_type": "code",
   "execution_count": null,
   "metadata": {},
   "outputs": [],
   "source": [
    "mod_cols = [\n",
    "    \"yearbuilt\",\n",
    "    \"regionidzip\",\n",
    "    \"propertyzoningdesc\",\n",
    "    \"buildingqualitytypeid\",\n",
    "]\n",
    "\n",
    "for col in mod_cols:\n",
    "    mode = str(train[col].mode())# I had some friction when this returned a float (and there were no decimals anyways)\n",
    "    train[col].fillna(value=mode, inplace=True)\n",
    "    validate[col].fillna(value=mode, inplace=True)\n",
    "    test[col].fillna(value=mode, inplace=True)"
   ]
  },
  {
   "cell_type": "code",
   "execution_count": null,
   "metadata": {},
   "outputs": [],
   "source": [
    "train.isnull().sum().sort_values(ascending=False)"
   ]
  },
  {
   "cell_type": "code",
   "execution_count": null,
   "metadata": {},
   "outputs": [],
   "source": [
    "train.dtypes"
   ]
  },
  {
   "cell_type": "markdown",
   "metadata": {},
   "source": [
    "# Reassess"
   ]
  },
  {
   "cell_type": "code",
   "execution_count": 51,
   "metadata": {},
   "outputs": [],
   "source": [
    "df = acquire.load_zillow_data()\n",
    "df = df[df.propertylandusetypeid.isin([261, 262, 273])]\n",
    "df.drop(columns = ['buildingclasstypeid', 'typeconstructiontypeid', 'storytypeid',\n",
    "    'propertylandusetypeid', 'heatingorsystemtypeid',\n",
    "    'architecturalstyletypeid', 'airconditioningtypeid', 'id', 'parcelid'], inplace = True)\n",
    "df.drop(columns = [c for c in df.columns if c.endswith('.1')], inplace = True)\n",
    "df = df[df.unitcnt == 1.0]\n",
    "df['has_basement'] = df['basementsqft'] > 0\n",
    "df.replace({True:1, False:0}, inplace = True)\n",
    "df['heatingorsystemdesc'].fillna('None', inplace=True)\n",
    "df = handle_missing_values(df, .6, .6)\n",
    "df.drop(columns=['calculatedbathnbr', 'unitcnt', 'fullbathcnt', 'propertyzoningdesc'], inplace = True)\n",
    "\n",
    "train_validate, test = train_test_split(df, test_size=.2, random_state=369)\n",
    "train, validate = train_test_split(train_validate, test_size=.25, random_state=369)"
   ]
  },
  {
   "cell_type": "code",
   "execution_count": 52,
   "metadata": {},
   "outputs": [
    {
     "name": "stdout",
     "output_type": "stream",
     "text": [
      " Number of rows train, validate, test (20240, 6747, 6747)\n"
     ]
    },
    {
     "data": {
      "text/plain": [
       "regionidcity                    420\n",
       "lotsizesquarefeet               192\n",
       "buildingqualitytypeid            88\n",
       "censustractandblock              39\n",
       "structuretaxvaluedollarcnt       39\n",
       "regionidzip                       8\n",
       "yearbuilt                         6\n",
       "taxamount                         4\n",
       "rawcensustractandblock            0\n",
       "bedroomcnt                        0\n",
       "calculatedfinishedsquarefeet      0\n",
       "finishedsquarefeet12              0\n",
       "fips                              0\n",
       "latitude                          0\n",
       "longitude                         0\n",
       "propertycountylandusecode         0\n",
       "has_basement                      0\n",
       "regionidcounty                    0\n",
       "propertylandusedesc               0\n",
       "roomcnt                           0\n",
       "taxvaluedollarcnt                 0\n",
       "assessmentyear                    0\n",
       "landtaxvaluedollarcnt             0\n",
       "transactiondate                   0\n",
       "logerror                          0\n",
       "heatingorsystemdesc               0\n",
       "bathroomcnt                       0\n",
       "dtype: int64"
      ]
     },
     "execution_count": 52,
     "metadata": {},
     "output_type": "execute_result"
    }
   ],
   "source": [
    "print(f\" Number of rows train, validate, test {train.shape[0], validate.shape[0], test.shape[0]}\")\n",
    "train.isnull().sum().sort_values(ascending=False)"
   ]
  },
  {
   "cell_type": "code",
   "execution_count": 53,
   "metadata": {},
   "outputs": [
    {
     "data": {
      "text/plain": [
       "6037.0    20238\n",
       "6059.0        2\n",
       "Name: fips, dtype: int64"
      ]
     },
     "execution_count": 53,
     "metadata": {},
     "output_type": "execute_result"
    }
   ],
   "source": [
    "train.fips.value_counts()"
   ]
  },
  {
   "cell_type": "code",
   "execution_count": 54,
   "metadata": {},
   "outputs": [],
   "source": [
    "med_cols = [\n",
    "\"taxamount\",\n",
    "\"calculatedfinishedsquarefeet\",\n",
    "\"structuretaxvaluedollarcnt\",\n",
    "\"lotsizesquarefeet\"\n",
    "]\n",
    "\n",
    "for col in med_cols:\n",
    "    median = train[col].median()\n",
    "    train[col].fillna(median, inplace=True)\n",
    "    validate[col].fillna(median, inplace=True)\n",
    "    test[col].fillna(median, inplace=True)\n",
    "\n",
    "mod_cols = [\n",
    "    \"yearbuilt\",\n",
    "    \"regionidzip\",\n",
    "    \"buildingqualitytypeid\",\n",
    "    'regionidcity',\n",
    "    'censustractandblock'\n",
    "]\n",
    "\n",
    "for col in mod_cols:\n",
    "    mode = str(train[col].mode())# I had some friction when this returned a float (and there were no decimals anyways)\n",
    "    train[col].fillna(value=mode, inplace=True)\n",
    "    validate[col].fillna(value=mode, inplace=True)\n",
    "    test[col].fillna(value=mode, inplace=True)"
   ]
  },
  {
   "cell_type": "code",
   "execution_count": 55,
   "metadata": {},
   "outputs": [
    {
     "data": {
      "text/plain": [
       "bathroomcnt                     0\n",
       "bedroomcnt                      0\n",
       "buildingqualitytypeid           0\n",
       "calculatedfinishedsquarefeet    0\n",
       "finishedsquarefeet12            0\n",
       "fips                            0\n",
       "latitude                        0\n",
       "longitude                       0\n",
       "lotsizesquarefeet               0\n",
       "propertycountylandusecode       0\n",
       "rawcensustractandblock          0\n",
       "regionidcity                    0\n",
       "regionidcounty                  0\n",
       "regionidzip                     0\n",
       "roomcnt                         0\n",
       "yearbuilt                       0\n",
       "structuretaxvaluedollarcnt      0\n",
       "taxvaluedollarcnt               0\n",
       "assessmentyear                  0\n",
       "landtaxvaluedollarcnt           0\n",
       "taxamount                       0\n",
       "censustractandblock             0\n",
       "transactiondate                 0\n",
       "logerror                        0\n",
       "heatingorsystemdesc             0\n",
       "propertylandusedesc             0\n",
       "has_basement                    0\n",
       "dtype: int64"
      ]
     },
     "execution_count": 55,
     "metadata": {},
     "output_type": "execute_result"
    }
   ],
   "source": [
    "train.isnull().sum()"
   ]
  },
  {
   "cell_type": "code",
   "execution_count": null,
   "metadata": {},
   "outputs": [],
   "source": []
  }
 ],
 "metadata": {
  "kernelspec": {
   "display_name": "Python 3",
   "language": "python",
   "name": "python3"
  },
  "language_info": {
   "codemirror_mode": {
    "name": "ipython",
    "version": 3
   },
   "file_extension": ".py",
   "mimetype": "text/x-python",
   "name": "python",
   "nbconvert_exporter": "python",
   "pygments_lexer": "ipython3",
   "version": "3.8.3"
  }
 },
 "nbformat": 4,
 "nbformat_minor": 4
}
